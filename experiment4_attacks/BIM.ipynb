{
  "nbformat": 4,
  "nbformat_minor": 0,
  "metadata": {
    "colab": {
      "provenance": []
    },
    "kernelspec": {
      "name": "python3",
      "display_name": "Python 3"
    },
    "language_info": {
      "name": "python"
    }
  },
  "cells": [
    {
      "cell_type": "code",
      "execution_count": null,
      "metadata": {
        "id": "Z00zvN8xh_Be"
      },
      "outputs": [],
      "source": [
        "def fgsm(x, y_adv, epsilon):\n",
        "    loss_func = tf.keras.losses.BinaryCrossentropy()\n",
        "    with tf.GradientTape() as gt:\n",
        "        gt.watch(x)\n",
        "        label = model(x)\n",
        "        loss = loss_func(y_adv, label)\n",
        "        outputloss = loss.numpy()\n",
        "        #print (loss)\n",
        "        \n",
        "    grad = gt.gradient(loss, x)\n",
        "    gamma = epsilon * tf.sign(grad)\n",
        "    \n",
        "    return gamma, outputloss"
      ]
    },
    {
      "cell_type": "code",
      "source": [
        "def BIM(x, y_adv, eps):\n",
        "  alpha = eps/10\n",
        "  itrs = 0\n",
        "  while 1:\n",
        "    noise, loss = fgsm(x, y_adv,alpha)\n",
        "    #noise = tf.clip_by_value(x-noise-img, -eps, eps)\n",
        "    # print(noise)\n",
        "    x = x - noise\n",
        "    # print(x)\n",
        "    #preds = new_model.predict(x)\n",
        "    #print(preds)\n",
        "    itrs+=1\n",
        "    if loss<2 or itrs>=10:\n",
        "      break\n",
        "  return x, itrs"
      ],
      "metadata": {
        "id": "F0F8VkEDiFKj"
      },
      "execution_count": null,
      "outputs": []
    },
    {
      "cell_type": "code",
      "source": [
        "def create_perturb_bim(image_name, fromfolder, tofolder, yval):\n",
        "\n",
        "  old_img = cv2.imread(fromfolder+'/'+image_name)\n",
        "\n",
        "  old_img = preprocessing_image(old_img)\n",
        "\n",
        "  preds = model.predict(old_img)\n",
        "  print(\"The prediction of the image before attack: \", preds)\n",
        "\n",
        "\n",
        "  y_adv_label = yval\n",
        "  \n",
        "  y_adv = tf.reshape(y_adv_label, shape=[1, preds.shape[-1]])\n",
        " \n",
        "  print(y_adv)\n",
        "  x_adv, itrs = BIM(old_img, y_adv, 1.4)\n",
        "  # print(x_adv)\n",
        "  # noise = x_adv - old_img\n",
        "  \n",
        "  newpreds = model.predict(x_adv)\n",
        "  print(\"The prediction of the image after %d iterations of BIM attack: %f\" % ( itrs, newpreds[0][0]))\n",
        "\n",
        "  save_img(tofolder+'/'+image_name, x_adv[0])"
      ],
      "metadata": {
        "id": "Q-Tf53HbiHeM"
      },
      "execution_count": null,
      "outputs": []
    },
    {
      "cell_type": "code",
      "source": [
        "images = os.listdir('traffic/')\n",
        "i=0\n",
        "for img in images:\n",
        "  i+=1\n",
        "  print(str(i)+\". \"+img)\n",
        "  create_perturb_bim(img, 'traffic/', 'BIM_WBA_traffic_perturbed/traffic', 0)"
      ],
      "metadata": {
        "id": "ovJuij6giKJ4"
      },
      "execution_count": null,
      "outputs": []
    }
  ]
}